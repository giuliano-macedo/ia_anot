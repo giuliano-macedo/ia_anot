{
 "cells": [
  {
   "cell_type": "markdown",
   "metadata": {},
   "source": [
    "# **Anotações da disciplina de Inteligência Artificial**"
   ]
  },
  {
   "cell_type": "markdown",
   "metadata": {},
   "source": [
    "## Normalização\n",
    "* Obter a média dos termos(**np.mean()**):\n",
    "    * $\\text{Média: }\\mu_k=\\frac{1}{m}\\sum\\limits_{i=1}^{m}x_k^{(i)}$ (Onde 'm' é a quantidade das linhas)\n",
    "\n",
    "* Calcular o desvio padrão dos termos(**np.std()**):\n",
    "    * $\\text{Desvio Padrão: }\\sigma_k=\\sqrt{\\frac{1}{m}\\sum\\limits_{i=1}^{m}(x_k^{(i)}-\\mu_k)^2}$\n",
    "\n",
    "* Atribuir o \"novo\" valor de X para cada X calculado:\n",
    "    * $X_k=\\frac{x_k-\\mu_k}{\\sigma_k}$\n",
    "    \n",
    "## Regressão Linear\n",
    "\n",
    "### Notação Algébrica\n",
    "\n",
    "Definições:\n",
    "* $h(x)=\\theta_1x+\\theta_0$\n",
    "    \n",
    "* $J(h)=\\frac{1}{2m}\\sum\\limits_{i=0}^{m}((h(x_i)-y_i)^2)$\n",
    "\n",
    "    Algoritmo; sendo $i$ a iteração:\n",
    "\n",
    "    * $ \\theta^i_1= \\theta_1^{i-1} - \\alpha \\frac{\\partial}{\\partial \\theta_1^{i-1}}J \\to ~\n",
    "     \\theta_1^{i-1} - \\alpha \\frac{1}{m}\\sum\\limits_{i=0}^{m}((h(x_i)-y_i)x)$\n",
    "    * $ \\theta^i_0= \\theta_0^{i-1} - \\alpha \\frac{\\partial}{\\partial \\theta_0^{i-1}}J \\to ~\n",
    "    \\ \\theta_0^{i-1} - \\alpha \\frac{1}{m}\\sum\\limits_{i=0}^{m}((h(x_i)-y_i)1)$\n",
    "    \n",
    "\n",
    "### Notação Matricial\n",
    "\n",
    "Definições:\n",
    "\n",
    "Considere $x'$ a entrada, então:\n",
    "\n",
    "* $X=\\begin{bmatrix}\n",
    "        1 & x'_1 \\\\\n",
    "        1 & x'_2 \\\\\n",
    "        1 & .. \\\\\n",
    "        1 & x'_m \\\\\n",
    "    \\end{bmatrix}$ ,\n",
    "* $\\Theta=\\begin{bmatrix}\n",
    "        \\theta_0\\\\\n",
    "        \\theta_1\n",
    "    \\end{bmatrix}$\n",
    "    * $H=X \\cdot \\Theta$\n",
    "    * $E=H - Y $\n",
    "    * $J=\\frac{1}{2m}(E^T \\cdot E)$ \\\\\n",
    "    \n",
    "    Algoritmo; sendo $i$ a iteração:\n",
    "    * $\\Theta_i=\\Theta_{i-1} - \\frac{\\alpha}{m}(X^T \\cdot E)$\\\\\n",
    "    \n",
    "    Sendo que a cada iteração, o valor de $H$, $E$ e $J$ devem ser atualizados.\n",
    "    \n",
    "    ### Múltiplas variaveis algebra linear\n",
    "    $\n",
    "    X=\\begin{bmatrix}\n",
    "    1 & x^{(1)}_1 & x^{(1)}_2 & x^{(1)}_3 \\\\\n",
    "    1 & x^{(2)}_1 & x^{(2)}_2 & x^{(2)}_3 \\\\\n",
    "    1 & x^{(3)}_1 & x^{(3)}_2 & x^{(3)}_3 \\\\\n",
    "    \\end{bmatrix},\n",
    "    \\Theta=\\begin{bmatrix}\n",
    "    \\theta_0 \\\\\n",
    "    \\theta_1 \\\\\n",
    "    \\theta_2 \\\\\n",
    "    \\theta_3\n",
    "    \\end{bmatrix}\\\\\n",
    "    $\n",
    "    \n",
    "## Regressão Logistica\n",
    "$X,Y$ são os mesmos da regressão linear com multiplas variaveis matricial\n",
    "\n",
    "Na regressão logística a seguinte inequação deve ser seguida $0 \\leq h_\\theta(x) \\leq 1$.\n",
    "\n",
    "Portanto sendo $g(z)=\\frac{1}{1+e^{-z}}$,$z=X\\cdot\\Theta$\n",
    "\n",
    "Então:\n",
    "\n",
    "* $h_\\Theta(x)=g(z)$\n",
    "\n",
    "Contudo, o $J$ terá que mudar pois se não o algorítmo não irá convergir pelo fato do J não \n",
    "ser mais convexo.\n",
    "\n",
    "* $J(\\Theta)=\\frac{1}{m}\\sum\\limits_{i=1}^{m}\\text{custo}(h_\\theta(x^{(i)}),y^{(i)})$\n",
    "\n",
    "* $\\text{custo}(h_{\\theta},y)=-y.\\log(h_{\\theta}(x)-(1-y))\\log(1-h_{\\theta}(x))$\n",
    "\n",
    "E o algorítmo continua o mesmo da regressão linear matricial"
   ]
  },
  {
   "cell_type": "markdown",
   "metadata": {},
   "source": [
    "# Eixos NumPy\n",
    "\n",
    "* Axis 0\n",
    "* Axis 1"
   ]
  },
  {
   "cell_type": "code",
   "execution_count": 32,
   "metadata": {},
   "outputs": [],
   "source": [
    "a = np.array([[1, 2], [3, 4]])"
   ]
  },
  {
   "cell_type": "markdown",
   "metadata": {},
   "source": [
    "$a=\\begin{bmatrix}\n",
    "        1 & 2 \\\\\n",
    "        3 & 4 \\\\\n",
    "    \\end{bmatrix}$"
   ]
  },
  {
   "cell_type": "markdown",
   "metadata": {},
   "source": [
    "axis = 0 **SOMA DAS COLUNAS, OPERACAO LINHA A LINHA**"
   ]
  },
  {
   "cell_type": "code",
   "execution_count": 40,
   "metadata": {},
   "outputs": [
    {
     "data": {
      "text/plain": [
       "array([2., 3.])"
      ]
     },
     "execution_count": 40,
     "metadata": {},
     "output_type": "execute_result"
    }
   ],
   "source": [
    "a.mean(axis=0) #(1+3)/2 = 2 ||| (2+4)/2 = 3"
   ]
  },
  {
   "cell_type": "markdown",
   "metadata": {},
   "source": [
    "axis = 1 **SOMA DAS LINHAS, OPERACAO COLUNA A COLUNA**"
   ]
  },
  {
   "cell_type": "code",
   "execution_count": 49,
   "metadata": {},
   "outputs": [
    {
     "data": {
      "text/plain": [
       "array([1.5, 3.5])"
      ]
     },
     "execution_count": 49,
     "metadata": {},
     "output_type": "execute_result"
    }
   ],
   "source": [
    "a.mean(axis=1) #(1+2)/2 = 1.5 ||| (3+4)/2 = 7.5"
   ]
  },
  {
   "cell_type": "code",
   "execution_count": 47,
   "metadata": {},
   "outputs": [
    {
     "data": {
      "text/plain": [
       "2.5"
      ]
     },
     "execution_count": 47,
     "metadata": {},
     "output_type": "execute_result"
    }
   ],
   "source": [
    "(1+2+3+4)/ 4"
   ]
  },
  {
   "cell_type": "code",
   "execution_count": 42,
   "metadata": {},
   "outputs": [
    {
     "data": {
      "text/plain": [
       "2.5"
      ]
     },
     "execution_count": 42,
     "metadata": {},
     "output_type": "execute_result"
    }
   ],
   "source": [
    "a.mean()"
   ]
  }
 ],
 "metadata": {
  "kernelspec": {
   "display_name": "Python 3",
   "language": "python",
   "name": "python3"
  },
  "language_info": {
   "codemirror_mode": {
    "name": "ipython",
    "version": 3
   },
   "file_extension": ".py",
   "mimetype": "text/x-python",
   "name": "python",
   "nbconvert_exporter": "python",
   "pygments_lexer": "ipython3",
   "version": "3.6.8"
  }
 },
 "nbformat": 4,
 "nbformat_minor": 4
}
