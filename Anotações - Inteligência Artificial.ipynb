{
 "cells": [
  {
   "cell_type": "markdown",
   "metadata": {},
   "source": [
    "# **Anotações da disciplina de Inteligência Artificial**"
   ]
  },
  {
   "cell_type": "markdown",
   "metadata": {},
   "source": [
    "## **Normalização**\n",
    "* *Note que, essas operações devem ser resolvidas obtendo os valores linha a linha*;\n",
    "* Obter a média dos termos(**np.mean()**):\n",
    "    * $\\text{Média: }\\mu_k=\\frac{1}{m}\\sum\\limits_{i=1}^{m}x_k^{(i)}$ *(Onde 'm' é a quantidade das linhas)*\n",
    "\n",
    "* Calcular o desvio padrão dos termos(**np.std()**):\n",
    "    * $\\text{Desvio Padrão: }\\sigma_k=\\sqrt{\\frac{1}{m}\\sum\\limits_{i=1}^{m}(x_k^{(i)}-\\mu_k)^2}$\n",
    "\n",
    "* Atribuir o \"novo\" valor de X para cada X calculado:\n",
    "    * $X_k=\\frac{x_k-\\mu_k}{\\sigma_k}$"
   ]
  },
  {
   "cell_type": "markdown",
   "metadata": {},
   "source": [
    "## **Regressão Linear**\n",
    "\n",
    "### Observações\n",
    "* $J(h)$ = *Função de Perda*\n",
    "\n",
    "* *Custo* seria essa mesma função, porém, somente para um valor;\n",
    "\n",
    "* **Logo, a função de perda é a soma dos custos!**\n",
    "\n",
    "### Notação Algébrica\n",
    "\n",
    "Definições:\n",
    "* $h(x)=\\theta_1x+\\theta_0$\n",
    "    \n",
    "* $J(h)=\\frac{1}{2m}\\sum\\limits_{i=0}^{m}((h(x_i)-y_i)^2)$    \n",
    "\n",
    "    Algoritmo; sendo $i$ a iteração:\n",
    "\n",
    "    * $\\theta^i_1= \\theta_1^{i-1} - \\alpha \\frac{\\partial}{\\partial \\theta_1^{i-1}}J \\to ~\n",
    "     \\theta_1^{i-1} - \\alpha \\frac{1}{m}\\sum\\limits_{i=0}^{m}((h(x_i)-y_i)x)$\n",
    "    * $\\theta^i_0= \\theta_0^{i-1} - \\alpha \\frac{\\partial}{\\partial \\theta_0^{i-1}}J \\to ~\n",
    "    \\ \\theta_0^{i-1} - \\alpha \\frac{1}{m}\\sum\\limits_{i=0}^{m}((h(x_i)-y_i)1)$\n",
    "    \n",
    "\n",
    "### Notação Matricial\n",
    "\n",
    "Definições:\n",
    "\n",
    "Considere $x'$ a entrada, então:\n",
    "\n",
    "* $X=\\begin{bmatrix}\n",
    "        1 & x'_1 \\\\\n",
    "        1 & x'_2 \\\\\n",
    "        1 & .. \\\\\n",
    "        1 & x'_m \\\\\n",
    "    \\end{bmatrix}$ ,\n",
    "* $\\Theta=\\begin{bmatrix}\n",
    "        \\theta_0\\\\\n",
    "        \\theta_1\n",
    "    \\end{bmatrix}$\n",
    "    * $H=X \\cdot \\Theta$\n",
    "    * $E=H - Y$\n",
    "    * $J=\\frac{1}{2m}(E^T \\cdot E)$\n",
    "    \n",
    "    Algoritmo; sendo $i$ a iteração:\n",
    "    * $\\Theta_i=\\Theta_{i-1} - \\frac{\\alpha}{m}(X^T \\cdot E)$\n",
    "    \n",
    "    Sendo que a cada iteração, o valor de $H$, $E$ e $J$ devem ser atualizados.\n",
    "\n",
    "### Múltiplas Variáveis\n",
    "$X=\\begin{bmatrix}\n",
    "1 & x^{(1)}_1 & x^{(1)}_2 & x^{(1)}_3 \\\\\n",
    "1 & x^{(2)}_1 & x^{(2)}_2 & x^{(2)}_3 \\\\\n",
    "1 & x^{(3)}_1 & x^{(3)}_2 & x^{(3)}_3 \\\\\n",
    "\\end{bmatrix},\n",
    "\\Theta=\\begin{bmatrix}\n",
    "\\theta_0 \\\\\n",
    "\\theta_1 \\\\\n",
    "\\theta_2 \\\\\n",
    "\\theta_3\n",
    "\\end{bmatrix}$"
   ]
  },
  {
   "cell_type": "markdown",
   "metadata": {},
   "source": [
    "## **Regressão Logística**\n",
    "\n",
    "### Observações\n",
    "* Na Regressão Logística, temos que a função de ativação é a **Função sigmóide.**\n",
    "\n",
    "* $\\hat y$ = y predito = $h(x)$\n",
    "\n",
    "$X,Y$ são os mesmos da regressão linear com multiplas variaveis matricial\n",
    "\n",
    "Na regressão logística a seguinte inequação deve ser seguida $0 \\leq h_\\theta(x) \\leq 1$.\n",
    "\n",
    "* Se $h(\\theta) \\geq 0.5 \\to \\hat y$ = 1\n",
    "\n",
    "* Se $h(\\theta) \\lt 0.5 \\to \\hat y$ = 0\n",
    "\n",
    "\n",
    "Portanto sendo $g(z)=\\frac{1}{1+e^{-z}}$,$z=X\\cdot\\Theta$\n",
    "\n",
    "Então:\n",
    "\n",
    "* $h_\\Theta(x)=g(z)$\n",
    "\n",
    "Contudo, o $J$ terá que mudar pois se não o algorítmo não irá convergir pelo fato do J não \n",
    "ser mais convexo.\n",
    "\n",
    "* $J(\\Theta)=\\frac{1}{m}\\sum\\limits_{i=1}^{m}\\text{custo}(h_\\theta(x^{(i)}),y^{(i)})$\n",
    "\n",
    "* $\\text{custo}(h_{\\theta},y)=-y.\\log(h_{\\theta}(x)-(1-y)).\\log(1-h_{\\theta}(x))$\n",
    "\n",
    "E o resto algorítmo continua o mesmo da Regressão Linear na sua forma matricial!\n",
    "\n",
    "A **Acurácia** é a média de todos os resultados corretos e mostra quanto o nosso modelo está acertando. A mesma pode ser descrita como:\n",
    "\n",
    " * $acc=\\frac{1}{m}\\sum\\limits_{i=0}^{num\\_it\\_train}corretos$"
   ]
  },
  {
   "cell_type": "markdown",
   "metadata": {},
   "source": [
    "## Métricas de avaliação de regressão\n",
    "\n",
    "Aqui estão três métricas de avaliação comuns para problemas de regressão:\n",
    "\n",
    "Onde $n$ é quantidade de *linhas* da matriz.\n",
    "\n",
    "**Mean absolute error**(erro absoluto médio) (MAE) é a média do valor absoluto dos erros:\n",
    "\n",
    "$$\\frac 1n\\sum_{i=1}^n|y_i-\\hat{y}_i|$$\n",
    "\n",
    "**Mean Squared Error**(erro médio quadrático) (MSE) é a média dos erros quadrados:\n",
    "\n",
    "$$\\frac 1n\\sum_{i=1}^n(y_i-\\hat{y}_i)^2$$\n",
    "\n",
    "**Root Mean Square Error**(raiz do erro quadrático médio) (RMSE) é a raiz quadrada da média dos erros quadrados:\n",
    "\n",
    "$$\\sqrt{\\frac 1n\\sum_{i=1}^n(y_i-\\hat{y}_i)^2}$$\n",
    "\n",
    "Comparando estas métricas:\n",
    "\n",
    "- **MAE** é o mais fácil de entender, porque é o erro médio.\n",
    "- **MSE** é mais popular que o MAE, porque a MSE \"puniria\" erros maiores, o que tende a ser útil no mundo real.\n",
    "- **RMSE** é ainda mais popular do que MSE, porque o RMSE é interpretável nas unidades \"y\".\n",
    "\n",
    "Todas estas são **funções de perda**, porque queremos minimizá-las."
   ]
  },
  {
   "cell_type": "markdown",
   "metadata": {},
   "source": [
    "# Eixos NumPy\n",
    "\n",
    "* Axis 0\n",
    "* Axis 1"
   ]
  },
  {
   "cell_type": "code",
   "execution_count": 1,
   "metadata": {},
   "outputs": [],
   "source": [
    "import numpy as np"
   ]
  },
  {
   "cell_type": "code",
   "execution_count": 2,
   "metadata": {},
   "outputs": [],
   "source": [
    "a = np.array([[1, 2], [3, 4]])"
   ]
  },
  {
   "cell_type": "markdown",
   "metadata": {},
   "source": [
    "$a=\\begin{bmatrix}\n",
    "        1 & 2 \\\\\n",
    "        3 & 4 \\\\\n",
    "    \\end{bmatrix}$"
   ]
  },
  {
   "cell_type": "markdown",
   "metadata": {},
   "source": [
    "axis = 0 **SOMA DAS COLUNAS, OPERACAO LINHA A LINHA**"
   ]
  },
  {
   "cell_type": "code",
   "execution_count": 3,
   "metadata": {},
   "outputs": [
    {
     "data": {
      "text/plain": [
       "array([2., 3.])"
      ]
     },
     "execution_count": 3,
     "metadata": {},
     "output_type": "execute_result"
    }
   ],
   "source": [
    "a.mean(axis=0) #(1+3)/2 = 2 ||| (2+4)/2 = 3"
   ]
  },
  {
   "cell_type": "markdown",
   "metadata": {},
   "source": [
    "axis = 1 **SOMA DAS LINHAS, OPERACAO COLUNA A COLUNA**"
   ]
  },
  {
   "cell_type": "code",
   "execution_count": 4,
   "metadata": {},
   "outputs": [
    {
     "data": {
      "text/plain": [
       "array([1.5, 3.5])"
      ]
     },
     "execution_count": 4,
     "metadata": {},
     "output_type": "execute_result"
    }
   ],
   "source": [
    "a.mean(axis=1) #(1+2)/2 = 1.5 ||| (3+4)/2 = 7.5"
   ]
  },
  {
   "cell_type": "code",
   "execution_count": 5,
   "metadata": {},
   "outputs": [
    {
     "data": {
      "text/plain": [
       "2.5"
      ]
     },
     "execution_count": 5,
     "metadata": {},
     "output_type": "execute_result"
    }
   ],
   "source": [
    "(1+2+3+4)/ 4"
   ]
  },
  {
   "cell_type": "code",
   "execution_count": 6,
   "metadata": {},
   "outputs": [
    {
     "data": {
      "text/plain": [
       "2.5"
      ]
     },
     "execution_count": 6,
     "metadata": {},
     "output_type": "execute_result"
    }
   ],
   "source": [
    "a.mean()"
   ]
  },
  {
   "cell_type": "markdown",
   "metadata": {},
   "source": [
    "# ANOTAÇÕES Variadas\n",
    "\n",
    "**ignorar esse tópico qqr coisa**\n",
    "\n",
    "verificar o balanceamento para o exemplo que fizemos em aula - (exemplo das notas)\n",
    "\n",
    "entradas positivas e negativas, ta balanceado no exemplo em aula(40,40), SE NAO TIVER BALANCEADO, existem métodos para balancear(ex: data aumentation - para imagens)\n",
    "\n",
    "Estudar: diferença da reg. linear vs reg. logistica\n",
    "\n",
    "cada matriz de cores é chamada de canal\n",
    "\n",
    "nossas imagens sao de 64x64, como essas sao colorias(r,g,b)\n",
    "\n",
    "teremos 3 canais diferentes, uma para o R, uma para o G e outra para o B.\n",
    "logo, 64 * 64 * 3 = 12288 - quantidade total de pixel(valores).\n",
    "\n",
    "4096 * 3\n",
    "\n",
    "**FAZER EM ESCALA RGB**\n",
    "\n",
    "$\\theta_0$ seria o cara que multiplica vezes 1, por isso que começamos no $\\theta_1$\n",
    "\n",
    "nesse exemplo teriamos 4096 thetas para o canal 1, 4096 thetas para o canal 2 e 4096 thetas para o canal 3,\n",
    "no caso $\\theta_1$ ate $\\theta_{4096}$, $\\theta_{4097}$ ate $\\theta_{8192}$, $\\theta_{4097}$ ate $\\theta_{8192}$, $\\theta_{8193}$ ate $\\theta_{12288}$\n",
    "\n",
    "**POR QUE CONVERTER PARA ESCALA DE CINZA?**\n",
    "\n",
    "fica menor o intervalo de valores (0-255), e em vez de trabalhar com 3 canais, iremos trabalhar com somente um\n",
    "\n",
    "converter para cinza é uma ideia para plotar num histograma:\n",
    "\n",
    "histograma tem o formato (254,quantidade de valores)\n",
    "\n",
    "f(x) no hist é a frequencia que a cor de 0-255 aparece nas imagens, o tamanho da barra é a quantidade de vezes que essa cor aparece na imagem"
   ]
  }
 ],
 "metadata": {
  "kernelspec": {
   "display_name": "Python 3",
   "language": "python",
   "name": "python3"
  },
  "language_info": {
   "codemirror_mode": {
    "name": "ipython",
    "version": 3
   },
   "file_extension": ".py",
   "mimetype": "text/x-python",
   "name": "python",
   "nbconvert_exporter": "python",
   "pygments_lexer": "ipython3",
   "version": "3.6.8"
  }
 },
 "nbformat": 4,
 "nbformat_minor": 4
}
